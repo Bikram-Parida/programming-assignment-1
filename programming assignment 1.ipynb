{
 "cells": [
  {
   "cell_type": "markdown",
   "id": "6ee1876b-02fb-4e6c-a7c8-3f535ad7f3bb",
   "metadata": {},
   "source": [
    "# 1. Write a Python program to print \"Hello Python\"?"
   ]
  },
  {
   "cell_type": "code",
   "execution_count": 2,
   "id": "9ac275d2-7347-4d46-aa2a-d9e58558be68",
   "metadata": {},
   "outputs": [
    {
     "name": "stdout",
     "output_type": "stream",
     "text": [
      "Hello Python\n"
     ]
    }
   ],
   "source": [
    "print(\"Hello Python\")"
   ]
  },
  {
   "cell_type": "markdown",
   "id": "f0068752-1d04-4616-90e2-28815432fe62",
   "metadata": {},
   "source": [
    "# 2. Write a Python program to do arithmetical operations addition and division.?"
   ]
  },
  {
   "cell_type": "code",
   "execution_count": 3,
   "id": "90fddd62-07e3-4a83-9bda-08892f1ff347",
   "metadata": {},
   "outputs": [
    {
     "name": "stdout",
     "output_type": "stream",
     "text": [
      "Addition of two number is 45\n",
      "Division is 2.0\n"
     ]
    }
   ],
   "source": [
    "num1=30\n",
    "num2=15\n",
    "addition=num1+num2\n",
    "division=num1/num2\n",
    "print(\"Addition of two number is\",addition)\n",
    "print(\"Division is\",division)"
   ]
  },
  {
   "cell_type": "markdown",
   "id": "8884b749-909e-4c41-b32b-d0e9d8447495",
   "metadata": {},
   "source": [
    "# 3. Write a Python program to find the area of a triangle?"
   ]
  },
  {
   "cell_type": "code",
   "execution_count": 4,
   "id": "d4ccb81a-9ff9-4ba1-8c52-e794d75222be",
   "metadata": {},
   "outputs": [
    {
     "name": "stdout",
     "output_type": "stream",
     "text": [
      "Area of triangle 3.0\n"
     ]
    }
   ],
   "source": [
    "h=2\n",
    "b=3\n",
    "area=(1/2)*b*h\n",
    "print(\"Area of triangle\",area)"
   ]
  },
  {
   "cell_type": "markdown",
   "id": "8124b1e1-4eb1-494f-9d12-eca986f12a09",
   "metadata": {},
   "source": [
    "# 4. Write a Python program to swap two variables?"
   ]
  },
  {
   "cell_type": "code",
   "execution_count": 8,
   "id": "15c8e603-2b21-4e3e-9991-d8f338d5a476",
   "metadata": {},
   "outputs": [
    {
     "name": "stdout",
     "output_type": "stream",
     "text": [
      "Swap value of a is 2\n",
      "Swap value of b is 1\n"
     ]
    }
   ],
   "source": [
    "a=1\n",
    "b=2\n",
    "c=a\n",
    "a=b\n",
    "b=c\n",
    "print(\"Swap value of a is\",a)\n",
    "print(\"Swap value of b is\",b)\n"
   ]
  },
  {
   "cell_type": "markdown",
   "id": "edf02f27-ee7c-4e82-907a-085f3f7a3072",
   "metadata": {},
   "source": [
    "# 5. Write a Python program to generate a random number?"
   ]
  },
  {
   "cell_type": "code",
   "execution_count": 6,
   "id": "996b015e-acca-4681-b251-1eb4823de0da",
   "metadata": {},
   "outputs": [
    {
     "name": "stdout",
     "output_type": "stream",
     "text": [
      "0.6758387541996322\n"
     ]
    }
   ],
   "source": [
    "import random\n",
    "print(random.random())"
   ]
  }
 ],
 "metadata": {
  "kernelspec": {
   "display_name": "Python 3 (ipykernel)",
   "language": "python",
   "name": "python3"
  },
  "language_info": {
   "codemirror_mode": {
    "name": "ipython",
    "version": 3
   },
   "file_extension": ".py",
   "mimetype": "text/x-python",
   "name": "python",
   "nbconvert_exporter": "python",
   "pygments_lexer": "ipython3",
   "version": "3.12.5"
  }
 },
 "nbformat": 4,
 "nbformat_minor": 5
}
